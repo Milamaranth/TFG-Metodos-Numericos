{
 "cells": [
  {
   "cell_type": "code",
   "execution_count": 1,
   "metadata": {},
   "outputs": [],
   "source": [
    "%display latex"
   ]
  },
  {
   "cell_type": "code",
   "execution_count": 2,
   "metadata": {},
   "outputs": [],
   "source": [
    "def NewtonMetodo(f, x0, n): # -> El zero de f\n",
    "    xk = x0\n",
    "    J = jacobian(f, f[0].arguments())\n",
    "    for k in [1..n]:\n",
    "        yk = J(*xk).solve_right(-f(*xk))\n",
    "        xk = [xki.n()+yki.n() for (xki,yki) in zip(xk,yk)]\n",
    "        #(xk[0] + yk[0].n(),xk[1] + yk[1].n(),xk[2] + yk[2].n())\n",
    "        print(xk)"
   ]
  },
  {
   "cell_type": "markdown",
   "metadata": {},
   "source": [
    "$$\\frac{\\partial f_{l}}{\\partial x_{j}}\\left(\\mathbf{x}^{(k)}\\right) \\approx \\frac{f_{l}\\left(\\mathbf{x}^{(k)}+\\mathbf{e}_{j} h\\right)-f_{l}\\left(\\mathbf{x}^{(k)}\\right)}{h}$$"
   ]
  },
  {
   "cell_type": "code",
   "execution_count": 3,
   "metadata": {},
   "outputs": [],
   "source": [
    "def e(j, n):\n",
    "    I = identity_matrix(n)\n",
    "    return vector(I[j])"
   ]
  },
  {
   "cell_type": "code",
   "execution_count": 4,
   "metadata": {},
   "outputs": [],
   "source": [
    "def dfin(f, l, j, h, xk):\n",
    "    n = len(xk)\n",
    "    return (f[l](*(vector(xk) + e(j, n) * h)) - f[l](*xk)) / h\n",
    "\n",
    "def aprox_jacobiano(f, xk, h):\n",
    "    m = len(f[0])\n",
    "    return Matrix([[dfin(f, l-1, j-1, h, xk) for j in [1..m]] for l in [1..f.length()]])"
   ]
  },
  {
   "cell_type": "code",
   "execution_count": 5,
   "metadata": {},
   "outputs": [],
   "source": [
    "def CuasiNewtonMetodo(f, x0, n): # -> El zero de f\n",
    "    xk = x0\n",
    "    h = 0.01\n",
    "    for k in [1..n]:\n",
    "        yk = aprox_jacobiano(f, xk, h).solve_right(-f(*xk))\n",
    "        xk = [xki.n()+yki.n() for (xki,yki) in zip(xk,yk)]\n",
    "        #(xk[0] + yk[0].n(),xk[1] + yk[1].n(),xk[2] + yk[2].n())\n",
    "        print(xk)"
   ]
  },
  {
   "cell_type": "code",
   "execution_count": 6,
   "metadata": {},
   "outputs": [],
   "source": [
    "f1(x,y,z) = 3*x - cos(y*z) - 1/2\n",
    "f2(x,y,z) = x^2 - 81*(y+0.1)^2 + sin(z) + 1.06\n",
    "f3(x,y,z) = exp(-x*y) + 20*z + (10*pi-3)/3\n",
    "F(x,y,z) = (f1(x,y,z),f2(x,y,z),f3(x,y,z))"
   ]
  },
  {
   "cell_type": "code",
   "execution_count": 7,
   "metadata": {},
   "outputs": [
    {
     "name": "stdout",
     "output_type": "stream",
     "text": [
      "[0.499877315525439, 0.0215456870636396, -0.521510938631230]\n",
      "[0.500024174069694, 0.00268942993288742, -0.523528077358675]\n",
      "[0.500001447353800, 0.000158719570131208, -0.523594612922433]\n",
      "[0.500000070052590, 7.67941834665248e-6, -0.523598574057405]\n",
      "[0.500000003343863, 3.66559735551220e-7, -0.523598765977705]\n",
      "[0.500000000159506, 1.74853353324123e-8, -0.523598775139384]\n",
      "[0.500000000007608, 8.34044940750678e-10, -0.523598775576409]\n",
      "[0.500000000000363, 3.97836208421154e-11, -0.523598775597255]\n",
      "[0.500000000000017, 1.89765217428750e-12, -0.523598775598249]\n",
      "[0.500000000000001, 9.05144015295178e-14, -0.523598775598296]\n",
      "[0.500000000000000, 4.31599200823030e-15, -0.523598775598299]\n",
      "[0.500000000000000, 2.04697370165263e-16, -0.523598775598299]\n",
      "[0.500000000000000, 1.38777878078145e-17, -0.523598775598299]\n",
      "[0.500000000000000, -6.93889390390723e-18, -0.523598775598299]\n",
      "[0.500000000000000, -6.93889390390723e-18, -0.523598775598299]\n",
      "[0.500000000000000, -2.08166817117217e-17, -0.523598775598299]\n",
      "[0.500000000000000, 1.38777878078145e-17, -0.523598775598299]\n",
      "[0.500000000000000, -6.93889390390723e-18, -0.523598775598299]\n",
      "[0.500000000000000, -6.93889390390723e-18, -0.523598775598299]\n",
      "[0.500000000000000, -2.08166817117217e-17, -0.523598775598299]\n",
      "[0.500000000000000, 1.38777878078145e-17, -0.523598775598299]\n",
      "[0.500000000000000, -6.93889390390723e-18, -0.523598775598299]\n",
      "[0.500000000000000, -6.93889390390723e-18, -0.523598775598299]\n",
      "[0.500000000000000, -2.08166817117217e-17, -0.523598775598299]\n",
      "[0.500000000000000, 1.38777878078145e-17, -0.523598775598299]\n"
     ]
    }
   ],
   "source": [
    "x0 = (0.1,0.1,-0.1)\n",
    "CuasiNewtonMetodo(F, x0, 25)"
   ]
  },
  {
   "cell_type": "markdown",
   "metadata": {},
   "source": []
  },
  {
   "cell_type": "code",
   "execution_count": null,
   "metadata": {},
   "outputs": [],
   "source": []
  },
  {
   "cell_type": "code",
   "execution_count": null,
   "metadata": {},
   "outputs": [],
   "source": []
  }
 ],
 "metadata": {
  "kernelspec": {
   "display_name": "SageMath 9.1",
   "language": "sage",
   "name": "sagemath"
  },
  "language_info": {
   "codemirror_mode": {
    "name": "ipython",
    "version": 3
   },
   "file_extension": ".py",
   "mimetype": "text/x-python",
   "name": "python",
   "nbconvert_exporter": "python",
   "pygments_lexer": "ipython3",
   "version": "3.7.3"
  }
 },
 "nbformat": 4,
 "nbformat_minor": 4
}
