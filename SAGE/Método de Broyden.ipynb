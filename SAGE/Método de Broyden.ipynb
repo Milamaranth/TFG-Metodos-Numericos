{
 "cells": [
  {
   "cell_type": "code",
   "execution_count": 1,
   "metadata": {},
   "outputs": [],
   "source": [
    "%display latex"
   ]
  },
  {
   "cell_type": "code",
   "execution_count": 2,
   "metadata": {},
   "outputs": [],
   "source": [
    "def NewtonMetodo(f, x0, n): # -> El zero de f\n",
    "    xk = x0\n",
    "    J = jacobian(f, f[0].arguments())\n",
    "    for k in [1..n]:\n",
    "        yk = J(*xk).solve_right(-f(*xk))\n",
    "        xk = [xki.n()+yki.n() for (xki,yki) in zip(xk,yk)]\n",
    "        print(xk)\n",
    "    return vector(float(xki) for xki in xk)"
   ]
  },
  {
   "cell_type": "code",
   "execution_count": 3,
   "metadata": {},
   "outputs": [],
   "source": [
    "def e(j, n):\n",
    "    I = identity_matrix(n)\n",
    "    return vector(I[j])\n",
    "def dfin(f, l, j, h, xk):\n",
    "    n = len(xk)\n",
    "    return (f[l](*(vector(xk) + e(j, n) * h)) - f[l](*xk)) / h\n",
    "\n",
    "def aprox_jacobiano(f, xk, h):\n",
    "    m = len(f[0])\n",
    "    return Matrix([[dfin(f, l-1, j-1, h, xk) for j in [1..m]] for l in [1..f.length()]])\n",
    "def CuasiNewtonMetodo(f, x0, n): # -> El zero de f\n",
    "    xk = x0\n",
    "    h = 0.01\n",
    "    for k in [1..n]:\n",
    "        yk = aprox_jacobiano(f, xk, h).solve_right(-f(*xk))\n",
    "        xk = [xki.n()+yki.n() for (xki,yki) in zip(xk,yk)]\n",
    "        print(xk)"
   ]
  },
  {
   "cell_type": "code",
   "execution_count": 4,
   "metadata": {},
   "outputs": [],
   "source": [
    "\n",
    "    # Primera iteración como el método de Newton\n",
    "    # Luego usar método de la secante\n",
    "    "
   ]
  },
  {
   "cell_type": "code",
   "execution_count": 5,
   "metadata": {},
   "outputs": [],
   "source": [
    "xk = [vector((1,1,1))]"
   ]
  },
  {
   "cell_type": "code",
   "execution_count": 6,
   "metadata": {},
   "outputs": [],
   "source": [
    "xk.append(vector((2,3,1)))"
   ]
  },
  {
   "cell_type": "code",
   "execution_count": 7,
   "metadata": {},
   "outputs": [
    {
     "data": {
      "text/html": [
       "<html><script type=\"math/tex; mode=display\">\\newcommand{\\Bold}[1]{\\mathbf{#1}}\\left[0, 0, 0, 4, 0, 0\\right]</script></html>"
      ],
      "text/plain": [
       "[0, 0, 0, 4, 0, 0]"
      ]
     },
     "execution_count": 7,
     "metadata": {},
     "output_type": "execute_result"
    }
   ],
   "source": [
    "n=5\n",
    "xk = (n+1)*[0]\n",
    "xk[3] = xk[2]+4\n",
    "xk"
   ]
  },
  {
   "cell_type": "code",
   "execution_count": 8,
   "metadata": {},
   "outputs": [],
   "source": [
    "def BroydenMetodo(f, x0, n):\n",
    "    xk = (n+1)*[0]\n",
    "    xk[0] = x0\n",
    "    print(xk[0])\n",
    "    A = jacobian(f, f[0].arguments())(*x0).n()\n",
    "    xk[1] = NewtonMetodo(f, x0, 1)\n",
    "    for k in [1..n-1]:\n",
    "        #print(xk[k])\n",
    "        s = xk[k] - xk[k-1]\n",
    "        y = f(*xk[k]) - f(*xk[k-1])\n",
    "        xk[k+1] = (xk[k] - A.inverse()*f(*xk[k])).n()\n",
    "        A = (A + ((y-A*s)/(s.norm()^2)).column() * s.row()).n()\n",
    "    \n",
    "# Ax = y -----  x = A.solve_right(y)"
   ]
  },
  {
   "cell_type": "code",
   "execution_count": 9,
   "metadata": {},
   "outputs": [],
   "source": [
    "f1(x,y,z) = 3*x - cos(y*z) - 1/2\n",
    "f2(x,y,z) = x^2 - 81*(y+0.1)^2 + sin(z) + 1.06\n",
    "f3(x,y,z) = exp(-x*y) + 20*z + (10*pi-3)/3\n",
    "F(x,y,z) = (f1(x,y,z),f2(x,y,z),f3(x,y,z))\n",
    "x0 = vector((0.1,0.1,-0.1))"
   ]
  },
  {
   "cell_type": "code",
   "execution_count": 10,
   "metadata": {
    "scrolled": true
   },
   "outputs": [
    {
     "name": "stdout",
     "output_type": "stream",
     "text": [
      "[0.499869672926428, 0.0194668485374181, -0.521520471935831]\n"
     ]
    },
    {
     "data": {
      "text/html": [
       "<html><script type=\"math/tex; mode=display\">\\newcommand{\\Bold}[1]{\\mathbf{#1}}\\left(\\begin{array}{rrr}\n",
       "3.00000000000000 & 0.000999983333416667 & -0.000999983333416667 \\\\\n",
       "0.200000000000000 & -32.4000000000000 & 0.995004165278026 \\\\\n",
       "-0.0990049833749168 & -0.0990049833749168 & 20.0000000000000\n",
       "\\end{array}\\right)</script></html>"
      ],
      "text/plain": [
       "[     3.00000000000000  0.000999983333416667 -0.000999983333416667]\n",
       "[    0.200000000000000     -32.4000000000000     0.995004165278026]\n",
       "[  -0.0990049833749168   -0.0990049833749168      20.0000000000000]"
      ]
     },
     "execution_count": 10,
     "metadata": {},
     "output_type": "execute_result"
    }
   ],
   "source": [
    "xk = (n+1)*[0]\n",
    "xk[0] = x0\n",
    "A = jacobian(F, F[0].arguments())(*x0)\n",
    "xk[1] = NewtonMetodo(F, x0, 1)\n",
    "A.n()"
   ]
  },
  {
   "cell_type": "code",
   "execution_count": 11,
   "metadata": {},
   "outputs": [
    {
     "data": {
      "text/html": [
       "<html><script type=\"math/tex; mode=display\">\\newcommand{\\Bold}[1]{\\mathbf{#1}}\\left(0.34406085207178955, 0.34406085207178955\\right)</script></html>"
      ],
      "text/plain": [
       "(0.34406085207178955, 0.34406085207178955)"
      ]
     },
     "execution_count": 11,
     "metadata": {},
     "output_type": "execute_result"
    }
   ],
   "source": [
    "k=1\n",
    "s = xk[k] - xk[k-1]\n",
    "s.norm()^2, s.dot_product(s)\n"
   ]
  },
  {
   "cell_type": "code",
   "execution_count": 12,
   "metadata": {},
   "outputs": [
    {
     "name": "stdout",
     "output_type": "stream",
     "text": [
      "(0.100000000000000, 0.100000000000000, -0.100000000000000)\n",
      "[0.499869672926428, 0.0194668485374181, -0.521520471935831]\n"
     ]
    }
   ],
   "source": [
    "BroydenMetodo(F, x0, 10)"
   ]
  },
  {
   "cell_type": "code",
   "execution_count": null,
   "metadata": {},
   "outputs": [],
   "source": []
  },
  {
   "cell_type": "code",
   "execution_count": null,
   "metadata": {},
   "outputs": [],
   "source": []
  },
  {
   "cell_type": "code",
   "execution_count": null,
   "metadata": {},
   "outputs": [],
   "source": []
  },
  {
   "cell_type": "code",
   "execution_count": null,
   "metadata": {},
   "outputs": [],
   "source": []
  },
  {
   "cell_type": "code",
   "execution_count": null,
   "metadata": {},
   "outputs": [],
   "source": []
  },
  {
   "cell_type": "code",
   "execution_count": null,
   "metadata": {},
   "outputs": [],
   "source": []
  }
 ],
 "metadata": {
  "kernelspec": {
   "display_name": "SageMath 9.1",
   "language": "sage",
   "name": "sagemath"
  },
  "language_info": {
   "codemirror_mode": {
    "name": "ipython",
    "version": 3
   },
   "file_extension": ".py",
   "mimetype": "text/x-python",
   "name": "python",
   "nbconvert_exporter": "python",
   "pygments_lexer": "ipython3",
   "version": "3.7.3"
  }
 },
 "nbformat": 4,
 "nbformat_minor": 4
}
