{
 "cells": [
  {
   "cell_type": "code",
   "execution_count": 11,
   "metadata": {},
   "outputs": [],
   "source": [
    "%display latex"
   ]
  },
  {
   "cell_type": "code",
   "execution_count": 12,
   "metadata": {},
   "outputs": [],
   "source": [
    "#Paso 1: Sea k = 1\n",
    "#Paso 2 Cuando (k ≤ N) hacer pasos 3 − 7\n",
    "#Paso 3 Calcular F(x) y J(x), donde J(x)i,j = ∂ fi(x)/∂xj para 1 ≤ i, j ≤ n\n",
    "#Paso 4 Resolver el sistema lineal n × n con J(x)y = −F(x)\n",
    "#Paso 5 Sea x = x + y\n",
    "#Paso 6 If kyk < TOL entonces OUTPUT (x) (EL proceso tuvo éxito.) STOP.\n",
    "#Paso 7 Set k = k + 1\n",
    "#Paso 8 OUTPUT (’Número máximo de iteraciones excedido’); (El proceso no tuvoéxito.) STOP\n"
   ]
  },
  {
   "cell_type": "code",
   "execution_count": 13,
   "metadata": {},
   "outputs": [],
   "source": [
    "#def NewtonMultivariable (f,)\n",
    "   #x = var('x')\n",
    " #  for k in [1..n]:\n",
    "  #  F(x)\n",
    "   # Ji(x) = f.diff(x,)\n",
    "    #J(x)  = matrix(Ji(x))\n",
    "   #return"
   ]
  },
  {
   "cell_type": "code",
   "execution_count": 14,
   "metadata": {},
   "outputs": [
    {
     "name": "stdout",
     "output_type": "stream",
     "text": [
      "2\n",
      "2.3333333333333333333\n",
      "2.2805555555555555556\n",
      "2.2790200679500897523\n",
      "2.2790187861674863832\n",
      "2.2790187861665935795\n",
      "2.2790187861665935795\n",
      "2.2790187861665935795\n",
      "2.2790187861665935795\n",
      "2.2790187861665935795\n",
      "2.2790187861665935795\n"
     ]
    }
   ],
   "source": [
    "# Newton de una variable\n",
    "#x = var('x')\n",
    "f(x) = x^3 - 3*x - 5\n",
    "fp = diff(f,x)\n",
    "NewtonIteration(x) = x - (f/fp)(x)\n",
    "xn = 2;\n",
    "print(xn);\n",
    "for i in range(10):\n",
    "    xn = N(NewtonIteration(xn),digits=20);\n",
    "    print(xn);"
   ]
  },
  {
   "cell_type": "code",
   "execution_count": 15,
   "metadata": {},
   "outputs": [
    {
     "data": {
      "image/png": "[encoded data removed]",
      "text/plain": [
       "Graphics object consisting of 9 graphics primitives"
      ]
     },
     "metadata": {},
     "output_type": "display_data"
    }
   ],
   "source": [
    "f(x)=x^3 - 3*x - 5\n",
    "P=plot(f(x),(x,1.8,2.5),thickness=3, legend_label=\"x^3 - 3*x - 5\")\n",
    "c=2;\n",
    "for i in range(1,5):\n",
    "    P+=line([(c,0),(c,f(c))], color='red')+line([(c,f(c)),(c-(f(c)/f.diff(x)(c)),0)], color='red')\n",
    "    c=c-(f(c)/f.diff(x)(c)) ; c.n()\n",
    "show(P) "
   ]
  },
  {
   "cell_type": "code",
   "execution_count": 16,
   "metadata": {},
   "outputs": [
    {
     "data": {
      "text/html": [
       "<html><script type=\"math/tex; mode=display\">\\newcommand{\\Bold}[1]{\\mathbf{#1}}\\left( x, y, z \\right) \\ {\\mapsto} \\ 3 \\, x - \\cos\\left(y z\\right) - \\frac{1}{2} \\left( x, y, z \\right) \\ {\\mapsto} \\ x^{2} - 81 \\, {\\left(y + 0.100000000000000\\right)}^{2} + \\sin\\left(z\\right) + 1.06000000000000 \\left( x, y, z \\right) \\ {\\mapsto} \\ \\frac{10}{3} \\, \\pi + 20 \\, z + e^{\\left(-x y\\right)} - 1</script></html>"
      ],
      "text/plain": [
       "(x, y, z) |--> 3*x - cos(y*z) - 1/2 (x, y, z) |--> x^2 - 81*(y + 0.100000000000000)^2 + sin(z) + 1.06000000000000 (x, y, z) |--> 10/3*pi + 20*z + e^(-x*y) - 1"
      ]
     },
     "metadata": {},
     "output_type": "display_data"
    }
   ],
   "source": [
    "# Ejemplo Newton no lineal\n",
    "#x = var('x')\n",
    "#y = var('y')\n",
    "#z = var('z')\n",
    "f1(x,y,z) = 3*x - cos(y*z) - 1/2\n",
    "f2(x,y,z) = x^2 - 81*(y+0.1)^2 + sin(z) + 1.06\n",
    "f3(x,y,z) = exp(-x*y) + 20*z + (10*pi-3)/3\n",
    "show(f1,f2,f3)"
   ]
  },
  {
   "cell_type": "code",
   "execution_count": 17,
   "metadata": {},
   "outputs": [
    {
     "data": {
      "text/html": [
       "<html><script type=\"math/tex; mode=display\">\\newcommand{\\Bold}[1]{\\mathbf{#1}}\\left( x, y, z \\right) \\ {\\mapsto} \\ \\left(3 \\, x - \\cos\\left(y z\\right) - \\frac{1}{2},\\,x^{2} - 81 \\, {\\left(y + 0.100000000000000\\right)}^{2} + \\sin\\left(z\\right) + 1.06000000000000,\\,\\frac{10}{3} \\, \\pi + 20 \\, z + e^{\\left(-x y\\right)} - 1\\right)</script></html>"
      ],
      "text/plain": [
       "(x, y, z) |--> (3*x - cos(y*z) - 1/2, x^2 - 81*(y + 0.100000000000000)^2 + sin(z) + 1.06000000000000, 10/3*pi + 20*z + e^(-x*y) - 1)"
      ]
     },
     "metadata": {},
     "output_type": "display_data"
    }
   ],
   "source": [
    "F(x,y,z) = (f1(x,y,z),f2(x,y,z),f3(x,y,z))\n",
    "show(F)"
   ]
  },
  {
   "cell_type": "code",
   "execution_count": 18,
   "metadata": {},
   "outputs": [
    {
     "data": {
      "text/html": [
       "<html><script type=\"math/tex; mode=display\">\\newcommand{\\Bold}[1]{\\mathbf{#1}}\\left(\\begin{array}{rrr}\n",
       "\\left( x, y, z \\right) \\ {\\mapsto} \\ 3 & \\left( x, y, z \\right) \\ {\\mapsto} \\ z \\sin\\left(y z\\right) & \\left( x, y, z \\right) \\ {\\mapsto} \\ y \\sin\\left(y z\\right) \\\\\n",
       "\\left( x, y, z \\right) \\ {\\mapsto} \\ 2 \\, x & \\left( x, y, z \\right) \\ {\\mapsto} \\ -162 \\, y - 16.2000000000000 & \\left( x, y, z \\right) \\ {\\mapsto} \\ \\cos\\left(z\\right) \\\\\n",
       "\\left( x, y, z \\right) \\ {\\mapsto} \\ -y e^{\\left(-x y\\right)} & \\left( x, y, z \\right) \\ {\\mapsto} \\ -x e^{\\left(-x y\\right)} & \\left( x, y, z \\right) \\ {\\mapsto} \\ 20\n",
       "\\end{array}\\right)</script></html>"
      ],
      "text/plain": [
       "[                        (x, y, z) |--> 3                (x, y, z) |--> z*sin(y*z)                (x, y, z) |--> y*sin(y*z)]\n",
       "[                      (x, y, z) |--> 2*x (x, y, z) |--> -162*y - 16.2000000000000                    (x, y, z) |--> cos(z)]\n",
       "[              (x, y, z) |--> -y*e^(-x*y)               (x, y, z) |--> -x*e^(-x*y)                        (x, y, z) |--> 20]"
      ]
     },
     "execution_count": 18,
     "metadata": {},
     "output_type": "execute_result"
    }
   ],
   "source": [
    "jacobian(F, F[0].arguments())"
   ]
  },
  {
   "cell_type": "code",
   "execution_count": 19,
   "metadata": {},
   "outputs": [
    {
     "data": {
      "text/html": [
       "<html><script type=\"math/tex; mode=display\">\\newcommand{\\Bold}[1]{\\mathbf{#1}}\\left(3,\\,2 \\, x,\\,-y e^{\\left(-x y\\right)}\\right)</script></html>"
      ],
      "text/plain": [
       "(3, 2*x, -y*e^(-x*y))"
      ]
     },
     "execution_count": 19,
     "metadata": {},
     "output_type": "execute_result"
    }
   ],
   "source": [
    "F(x,y,z).diff(x,1)"
   ]
  },
  {
   "cell_type": "code",
   "execution_count": 20,
   "metadata": {},
   "outputs": [
    {
     "data": {
      "text/html": [
       "<html><script type=\"math/tex; mode=display\">\\newcommand{\\Bold}[1]{\\mathbf{#1}}\\left( x, y, z \\right) \\ {\\mapsto} \\ \\left(3,\\,2 \\, x,\\,-y e^{\\left(-x y\\right)}\\right) \\left( x, y, z \\right) \\ {\\mapsto} \\ \\left(z \\sin\\left(y z\\right),\\,-162 \\, y - 16.2000000000000,\\,-x e^{\\left(-x y\\right)}\\right) \\left( x, y, z \\right) \\ {\\mapsto} \\ \\left(y \\sin\\left(y z\\right),\\,\\cos\\left(z\\right),\\,20\\right)</script></html>"
      ],
      "text/plain": [
       "(x, y, z) |--> (3, 2*x, -y*e^(-x*y)) (x, y, z) |--> (z*sin(y*z), -162*y - 16.2000000000000, -x*e^(-x*y)) (x, y, z) |--> (y*sin(y*z), cos(z), 20)"
      ]
     },
     "metadata": {},
     "output_type": "display_data"
    }
   ],
   "source": [
    "t = var('t')\n",
    "Fx = F.diff(x)\n",
    "Fy = F.diff(y)\n",
    "Fz = F.diff(z)\n",
    "show(Fx,Fy,Fz)"
   ]
  },
  {
   "cell_type": "code",
   "execution_count": 21,
   "metadata": {},
   "outputs": [
    {
     "data": {
      "text/html": [
       "<html><script type=\"math/tex; mode=display\">\\newcommand{\\Bold}[1]{\\mathbf{#1}}\\left( x, y, z \\right) \\ {\\mapsto} \\ \\left(3,\\,2 \\, x,\\,-y e^{\\left(-x y\\right)}\\right) \\left( x, y, z \\right) \\ {\\mapsto} \\ \\left(z \\sin\\left(y z\\right),\\,-162 \\, y - 16.2000000000000,\\,-x e^{\\left(-x y\\right)}\\right) \\left( x, y, z \\right) \\ {\\mapsto} \\ \\left(y \\sin\\left(y z\\right),\\,\\cos\\left(z\\right),\\,20\\right)</script></html>"
      ],
      "text/plain": [
       "(x, y, z) |--> (3, 2*x, -y*e^(-x*y)) (x, y, z) |--> (z*sin(y*z), -162*y - 16.2000000000000, -x*e^(-x*y)) (x, y, z) |--> (y*sin(y*z), cos(z), 20)"
      ]
     },
     "metadata": {},
     "output_type": "display_data"
    }
   ],
   "source": [
    "dFx = vector(Fx)\n",
    "dFy = vector(Fy)\n",
    "dFz = vector(Fz)\n",
    "show(dFx,dFy,dFz)"
   ]
  },
  {
   "cell_type": "code",
   "execution_count": 22,
   "metadata": {},
   "outputs": [
    {
     "data": {
      "text/html": [
       "<html><script type=\"math/tex; mode=display\">\\newcommand{\\Bold}[1]{\\mathbf{#1}}\\left(\\begin{array}{rrr}\n",
       "\\left( x, y, z \\right) \\ {\\mapsto} \\ 3 & \\left( x, y, z \\right) \\ {\\mapsto} \\ z \\sin\\left(y z\\right) & \\left( x, y, z \\right) \\ {\\mapsto} \\ y \\sin\\left(y z\\right) \\\\\n",
       "\\left( x, y, z \\right) \\ {\\mapsto} \\ 2 \\, x & \\left( x, y, z \\right) \\ {\\mapsto} \\ -162 \\, y - 16.2000000000000 & \\left( x, y, z \\right) \\ {\\mapsto} \\ \\cos\\left(z\\right) \\\\\n",
       "\\left( x, y, z \\right) \\ {\\mapsto} \\ -y e^{\\left(-x y\\right)} & \\left( x, y, z \\right) \\ {\\mapsto} \\ -x e^{\\left(-x y\\right)} & \\left( x, y, z \\right) \\ {\\mapsto} \\ 20\n",
       "\\end{array}\\right)</script></html>"
      ],
      "text/plain": [
       "[                        (x, y, z) |--> 3                (x, y, z) |--> z*sin(y*z)                (x, y, z) |--> y*sin(y*z)]\n",
       "[                      (x, y, z) |--> 2*x (x, y, z) |--> -162*y - 16.2000000000000                    (x, y, z) |--> cos(z)]\n",
       "[              (x, y, z) |--> -y*e^(-x*y)               (x, y, z) |--> -x*e^(-x*y)                        (x, y, z) |--> 20]"
      ]
     },
     "metadata": {},
     "output_type": "display_data"
    }
   ],
   "source": [
    "J = Matrix([Fx,Fy,Fz]).transpose()\n",
    "show(J)"
   ]
  },
  {
   "cell_type": "code",
   "execution_count": 23,
   "metadata": {},
   "outputs": [
    {
     "data": {
      "text/html": [
       "<html><script type=\"math/tex; mode=display\">\\newcommand{\\Bold}[1]{\\mathbf{#1}}\\left(0.100000000000000, 0.100000000000000, -0.100000000000000\\right)</script></html>"
      ],
      "text/plain": [
       "(0.100000000000000, 0.100000000000000, -0.100000000000000)"
      ]
     },
     "metadata": {},
     "output_type": "display_data"
    }
   ],
   "source": [
    "x0 = (0.1,0.1,-0.1)\n",
    "show(x0)"
   ]
  },
  {
   "cell_type": "code",
   "execution_count": 24,
   "metadata": {},
   "outputs": [
    {
     "data": {
      "text/html": [
       "<html><script type=\"math/tex; mode=display\">\\newcommand{\\Bold}[1]{\\mathbf{#1}}\\left(-1.19995000041667,\\,-2.26983341664683,\\,\\frac{10}{3} \\, \\pi - 2.00995016625083\\right)</script></html>"
      ],
      "text/plain": [
       "(-1.19995000041667, -2.26983341664683, 10/3*pi - 2.00995016625083)"
      ]
     },
     "metadata": {},
     "output_type": "display_data"
    },
    {
     "data": {
      "text/html": [
       "<html><script type=\"math/tex; mode=display\">\\newcommand{\\Bold}[1]{\\mathbf{#1}}\\left(-1.19995000041667,\\,-2.26983341664683,\\,\\frac{10}{3} \\, \\pi - 2.00995016625083\\right)</script></html>"
      ],
      "text/plain": [
       "(-1.19995000041667, -2.26983341664683, 10/3*pi - 2.00995016625083)"
      ]
     },
     "execution_count": 24,
     "metadata": {},
     "output_type": "execute_result"
    }
   ],
   "source": [
    "F0 = F(0.1,0.1,-0.1)\n",
    "show(F0)\n",
    "F(*x0)"
   ]
  },
  {
   "cell_type": "code",
   "execution_count": 25,
   "metadata": {},
   "outputs": [
    {
     "data": {
      "text/html": [
       "<html><script type=\"math/tex; mode=display\">\\newcommand{\\Bold}[1]{\\mathbf{#1}}8.462025345715148</script></html>"
      ],
      "text/plain": [
       "8.462025345715148"
      ]
     },
     "execution_count": 25,
     "metadata": {},
     "output_type": "execute_result"
    }
   ],
   "source": [
    "float(10/3*pi - 2.00995016625083)"
   ]
  },
  {
   "cell_type": "code",
   "execution_count": 26,
   "metadata": {},
   "outputs": [
    {
     "data": {
      "text/html": [
       "<html><script type=\"math/tex; mode=display\">\\newcommand{\\Bold}[1]{\\mathbf{#1}}\\left(3,\\,0.200000000000000,\\,-0.0990049833749168\\right)</script></html>"
      ],
      "text/plain": [
       "(3, 0.200000000000000, -0.0990049833749168)"
      ]
     },
     "execution_count": 26,
     "metadata": {},
     "output_type": "execute_result"
    }
   ],
   "source": [
    "Fx(0.1,0.1,-0.1)"
   ]
  },
  {
   "cell_type": "code",
   "execution_count": 27,
   "metadata": {},
   "outputs": [
    {
     "data": {
      "text/html": [
       "<html><script type=\"math/tex; mode=display\">\\newcommand{\\Bold}[1]{\\mathbf{#1}}\\left(\\begin{array}{rrr}\n",
       "3 & 0.000999983333416667 & -0.000999983333416667 \\\\\n",
       "0.200000000000000 & -32.4000000000000 & 0.995004165278026 \\\\\n",
       "-0.0990049833749168 & -0.0990049833749168 & 20\n",
       "\\end{array}\\right)</script></html>"
      ],
      "text/plain": [
       "[                    3  0.000999983333416667 -0.000999983333416667]\n",
       "[    0.200000000000000     -32.4000000000000     0.995004165278026]\n",
       "[  -0.0990049833749168   -0.0990049833749168                    20]"
      ]
     },
     "metadata": {},
     "output_type": "display_data"
    }
   ],
   "source": [
    "J0 = J(0.1,0.1,-0.1)\n",
    "show(J0)"
   ]
  },
  {
   "cell_type": "code",
   "execution_count": 28,
   "metadata": {},
   "outputs": [
    {
     "data": {
      "text/html": [
       "<html><script type=\"math/tex; mode=display\">\\newcommand{\\Bold}[1]{\\mathbf{#1}}\\left(-\\left(5.38567099607049 \\times 10^{-05}\\right) \\, \\pi + 0.4000388687707875,\\,-0.005119453090175131 \\, \\pi - 0.06444991524409016,\\,-0.1666922758392045 \\, \\pi + 0.1021587572507774\\right)</script></html>"
      ],
      "text/plain": [
       "(-(5.38567099607049e-05)*pi + 0.4000388687707875, -0.005119453090175131*pi - 0.06444991524409016, -0.1666922758392045*pi + 0.1021587572507774)"
      ]
     },
     "execution_count": 28,
     "metadata": {},
     "output_type": "execute_result"
    }
   ],
   "source": [
    "# NewtonIteration(x,y,z) =  - J(x,y,z).inverse()*F(x,y,z)\n",
    "y0 = J0.solve_right(-F0).simplify()\n",
    "y0"
   ]
  },
  {
   "cell_type": "code",
   "execution_count": 29,
   "metadata": {},
   "outputs": [
    {
     "name": "stdout",
     "output_type": "stream",
     "text": [
      "0.39986967292642844\n",
      "-0.08053315146258191\n",
      "-0.42152047193583075\n"
     ]
    }
   ],
   "source": [
    "print(float(-(5.38567099607049e-05)*pi + 0.4000388687707875))\n",
    "print(float(-0.005119453090175131*pi - 0.06444991524409016))\n",
    "print(float(-0.1666922758392045*pi + 0.1021587572507774))"
   ]
  },
  {
   "cell_type": "code",
   "execution_count": 30,
   "metadata": {},
   "outputs": [
    {
     "data": {
      "text/html": [
       "<html><script type=\"math/tex; mode=display\">\\newcommand{\\Bold}[1]{\\mathbf{#1}}\\left[0.4998696729264284, 0.019466848537418088, -0.5215204719358308\\right]</script></html>"
      ],
      "text/plain": [
       "[0.4998696729264284, 0.019466848537418088, -0.5215204719358308]"
      ]
     },
     "execution_count": 30,
     "metadata": {},
     "output_type": "execute_result"
    }
   ],
   "source": [
    "x1 = (x0[0] + y0[0],x0[1] + y0[1],x0[2] + y0[2])\n",
    "[float(x1i) for x1i in x1]"
   ]
  },
  {
   "cell_type": "markdown",
   "metadata": {},
   "source": [
    "### Alternativa"
   ]
  },
  {
   "cell_type": "code",
   "execution_count": 31,
   "metadata": {},
   "outputs": [
    {
     "name": "stdout",
     "output_type": "stream",
     "text": [
      "(0.500014240164219, 0.00158859137029389, -0.523556964347638)\n",
      "(0.500000113467834, 0.0000124447833215538, -0.523598450072889)\n",
      "(0.500000000007076, 7.75785727324951e-10, -0.523598775578007)\n",
      "(0.500000000000000, -3.46944695195361e-18, -0.523598775598299)\n",
      "(0.500000000000000, -1.04083408558608e-17, -0.523598775598299)\n",
      "(0.500000000000000, 3.46944695195361e-18, -0.523598775598299)\n",
      "(0.500000000000000, -3.46944695195361e-18, -0.523598775598299)\n",
      "(0.500000000000000, -1.04083408558608e-17, -0.523598775598299)\n",
      "(0.500000000000000, 3.46944695195361e-18, -0.523598775598299)\n"
     ]
    }
   ],
   "source": [
    "xk = (x1[0].n(), x1[1].n(), x1[2].n())\n",
    "for k in [2..10]:\n",
    "    yk = J(*xk).solve_right(-F(*xk)).simplify()\n",
    "    xk = (xk[0] + yk[0].n(),xk[1] + yk[1].n(),xk[2] + yk[2].n())\n",
    "    print(xk)"
   ]
  },
  {
   "cell_type": "code",
   "execution_count": 32,
   "metadata": {},
   "outputs": [
    {
     "name": "stdout",
     "output_type": "stream",
     "text": [
      "(0.500014240164219, 0.00158859137029389, -0.523556964347638)\n",
      "(0.500000113467834, 0.0000124447833215538, -0.523598450072889)\n",
      "(0.500000000007076, 7.75785727324951e-10, -0.523598775578007)\n",
      "(0.500000000000000, -3.46944695195361e-18, -0.523598775598299)\n",
      "(0.500000000000000, -1.04083408558608e-17, -0.523598775598299)\n",
      "(0.500000000000000, 3.46944695195361e-18, -0.523598775598299)\n",
      "(0.500000000000000, -3.46944695195361e-18, -0.523598775598299)\n",
      "(0.500000000000000, -1.04083408558608e-17, -0.523598775598299)\n",
      "(0.500000000000000, 3.46944695195361e-18, -0.523598775598299)\n"
     ]
    }
   ],
   "source": [
    "xk = (x1[0].n(), x1[1].n(), x1[2].n())\n",
    "for k in [2..10]:\n",
    "    yk = J(*xk).solve_right(-F(*xk)).simplify()\n",
    "    xk = (xk[0] + yk[0].n(),xk[1] + yk[1].n(),xk[2] + yk[2].n())\n",
    "    print(xk)"
   ]
  },
  {
   "cell_type": "code",
   "execution_count": 33,
   "metadata": {},
   "outputs": [
    {
     "data": {
      "text/html": [
       "<html><script type=\"math/tex; mode=display\">\\newcommand{\\Bold}[1]{\\mathbf{#1}}\\left( x, y \\right) \\ {\\mapsto} \\ x + y</script></html>"
      ],
      "text/plain": [
       "(x, y) |--> x + y"
      ]
     },
     "execution_count": 33,
     "metadata": {},
     "output_type": "execute_result"
    }
   ],
   "source": [
    "f(x,y)=x+y\n",
    "f"
   ]
  },
  {
   "cell_type": "code",
   "execution_count": 34,
   "metadata": {},
   "outputs": [
    {
     "data": {
      "text/html": [
       "<html><script type=\"math/tex; mode=display\">\\newcommand{\\Bold}[1]{\\mathbf{#1}}x + y</script></html>"
      ],
      "text/plain": [
       "x + y"
      ]
     },
     "execution_count": 34,
     "metadata": {},
     "output_type": "execute_result"
    }
   ],
   "source": [
    "f=x+y\n",
    "f"
   ]
  },
  {
   "cell_type": "code",
   "execution_count": 35,
   "metadata": {},
   "outputs": [],
   "source": [
    "def NewtonMetodo(f, x0, n): # -> El zero de f\n",
    "    xk = x0\n",
    "    J = jacobian(f, f[0].arguments())\n",
    "    for k in [1..n]:\n",
    "        yk = J(*xk).solve_right(-f(*xk))\n",
    "        xk = [xki.n()+yki.n() for (xki,yki) in zip(xk,yk)]\n",
    "        #(xk[0] + yk[0].n(),xk[1] + yk[1].n(),xk[2] + yk[2].n())\n",
    "        print(xk)"
   ]
  },
  {
   "cell_type": "code",
   "execution_count": 36,
   "metadata": {},
   "outputs": [
    {
     "name": "stdout",
     "output_type": "stream",
     "text": [
      "[0.499869672926428, 0.0194668485374181, -0.521520471935831]\n",
      "[0.500014240164219, 0.00158859137029389, -0.523556964347638]\n",
      "[0.500000113467834, 0.0000124447833215573, -0.523598450072889]\n",
      "[0.500000000007076, 7.75785720386057e-10, -0.523598775578007]\n",
      "[0.500000000000000, 6.93889390390723e-18, -0.523598775598299]\n"
     ]
    }
   ],
   "source": [
    "NewtonMetodo(F,x0,5)"
   ]
  },
  {
   "cell_type": "code",
   "execution_count": 45,
   "metadata": {},
   "outputs": [
    {
     "data": {
      "text/html": [
       "<html><script type=\"math/tex; mode=display\">\\newcommand{\\Bold}[1]{\\mathbf{#1}}\\left(\\begin{array}{r}\n",
       "x \\ {\\mapsto}\\ 2 \\, x - 2\n",
       "\\end{array}\\right)</script></html>"
      ],
      "text/plain": [
       "[x |--> 2*x - 2]"
      ]
     },
     "execution_count": 45,
     "metadata": {},
     "output_type": "execute_result"
    }
   ],
   "source": [
    "jacobian(F, F[0].arguments())"
   ]
  },
  {
   "cell_type": "code",
   "execution_count": 46,
   "metadata": {},
   "outputs": [
    {
     "name": "stdout",
     "output_type": "stream",
     "text": [
      "[1.50000000000000]\n",
      "[1.25000000000000]\n",
      "[1.12500000000000]\n",
      "[1.06250000000000]\n",
      "[1.03125000000000]\n",
      "[1.01562500000000]\n",
      "[1.00781250000000]\n",
      "[1.00390625000000]\n",
      "[1.00195312500000]\n",
      "[1.00097656250000]\n"
     ]
    }
   ],
   "source": [
    "f(x)=x^2 - 2*x + 1\n",
    "F(x) = (f(x),)\n",
    "NewtonMetodo(F,(2,),10)"
   ]
  },
  {
   "cell_type": "code",
   "execution_count": 40,
   "metadata": {},
   "outputs": [
    {
     "data": {
      "image/png": "[encoded data removed]",
      "text/plain": [
       "Graphics object consisting of 9 graphics primitives"
      ]
     },
     "metadata": {},
     "output_type": "display_data"
    }
   ],
   "source": [
    "f(x)=x^2 - 2*x + 1\n",
    "P=plot(f(x),(x,-1,2.5),thickness=3, legend_label=\"x^2 - 2x + 1\")\n",
    "c=2;\n",
    "for i in range(1,5):\n",
    "    P+=line([(c,0),(c,f(c))], color='red')+line([(c,f(c)),(c-(f(c)/f.diff(x)(c)),0)], color='red')\n",
    "    c=c-(f(c)/f.diff(x)(c)) ; c.n()\n",
    "show(P) "
   ]
  },
  {
   "cell_type": "code",
   "execution_count": null,
   "metadata": {},
   "outputs": [],
   "source": []
  },
  {
   "cell_type": "code",
   "execution_count": null,
   "metadata": {},
   "outputs": [],
   "source": []
  }
 ],
 "metadata": {
  "kernelspec": {
   "display_name": "SageMath 9.1",
   "language": "sage",
   "name": "sagemath"
  },
  "language_info": {
   "codemirror_mode": {
    "name": "ipython",
    "version": 3
   },
   "file_extension": ".py",
   "mimetype": "text/x-python",
   "name": "python",
   "nbconvert_exporter": "python",
   "pygments_lexer": "ipython3",
   "version": "3.7.3"
  }
 },
 "nbformat": 4,
 "nbformat_minor": 4
}
